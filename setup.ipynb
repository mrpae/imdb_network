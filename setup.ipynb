{
 "cells": [
  {
   "cell_type": "code",
   "execution_count": 3,
   "metadata": {},
   "outputs": [
    {
     "data": {
      "application/vnd.jupyter.widget-view+json": {
       "model_id": "da3c01eba49e462193d9de2c2a92213b",
       "version_major": 2,
       "version_minor": 0
      },
      "text/plain": [
       "FloatProgress(value=0.0, layout=Layout(width='auto'), style=ProgressStyle(bar_color='black'))"
      ]
     },
     "metadata": {},
     "output_type": "display_data"
    },
    {
     "data": {
      "application/vnd.jupyter.widget-view+json": {
       "model_id": "dc3bc72ccb6e4dd5a605901fbae7d463",
       "version_major": 2,
       "version_minor": 0
      },
      "text/plain": [
       "FloatProgress(value=0.0, layout=Layout(width='auto'), style=ProgressStyle(bar_color='black'))"
      ]
     },
     "metadata": {},
     "output_type": "display_data"
    },
    {
     "data": {
      "application/vnd.jupyter.widget-view+json": {
       "model_id": "d75e69a76ec3407aab49b51684c9a4de",
       "version_major": 2,
       "version_minor": 0
      },
      "text/plain": [
       "FloatProgress(value=0.0, layout=Layout(width='auto'), style=ProgressStyle(bar_color='black'))"
      ]
     },
     "metadata": {},
     "output_type": "display_data"
    },
    {
     "data": {
      "application/vnd.jupyter.widget-view+json": {
       "model_id": "ca5461d0c00a48a286071deed0b63298",
       "version_major": 2,
       "version_minor": 0
      },
      "text/plain": [
       "FloatProgress(value=0.0, layout=Layout(width='auto'), style=ProgressStyle(bar_color='black'))"
      ]
     },
     "metadata": {},
     "output_type": "display_data"
    },
    {
     "data": {
      "application/vnd.jupyter.widget-view+json": {
       "model_id": "5bb0ab1c81f545d5b8ff18d969b4ec13",
       "version_major": 2,
       "version_minor": 0
      },
      "text/plain": [
       "FloatProgress(value=0.0, layout=Layout(width='auto'), style=ProgressStyle(bar_color='black'))"
      ]
     },
     "metadata": {},
     "output_type": "display_data"
    },
    {
     "data": {
      "application/vnd.jupyter.widget-view+json": {
       "model_id": "9d344c3dc1f14682a60af07a4e605534",
       "version_major": 2,
       "version_minor": 0
      },
      "text/plain": [
       "FloatProgress(value=0.0, layout=Layout(width='auto'), style=ProgressStyle(bar_color='black'))"
      ]
     },
     "metadata": {},
     "output_type": "display_data"
    },
    {
     "name": "stdout",
     "output_type": "stream",
     "text": [
      "All IMDb tables created successfully!\n"
     ]
    }
   ],
   "source": [
    "import duckdb\n",
    "import pandas as pd\n",
    "import os\n",
    "\n",
    "# Connect to a persistent DuckDB database file\n",
    "conn = duckdb.connect(\"imdb.duckdb\")\n",
    "\n",
    "# Create tables and load data\n",
    "def create_imdb_tables():\n",
    "    # Title AKAs\n",
    "    conn.execute(f\"\"\"\n",
    "    CREATE OR REPLACE TABLE title_akas AS\n",
    "    SELECT \n",
    "        titleId AS title_id,\n",
    "        ordering::INTEGER,\n",
    "        title,\n",
    "        region,\n",
    "        language,\n",
    "        string_split(types, ',') AS types,\n",
    "        string_split(attributes, ',') AS attributes,\n",
    "        isOriginalTitle::BOOLEAN AS is_original_title\n",
    "    FROM read_csv('{os.path.join('data','title.akas.tsv')}', \n",
    "        delim='\\t', \n",
    "        header=True, \n",
    "        nullstr='\\\\N')\n",
    "    \"\"\")\n",
    "    \n",
    "    # Title Basics\n",
    "    conn.execute(f\"\"\"\n",
    "    CREATE OR REPLACE TABLE title_basics AS\n",
    "    SELECT \n",
    "        tconst,\n",
    "        titleType AS title_type,\n",
    "        primaryTitle AS primary_title,\n",
    "        originalTitle AS original_title,\n",
    "        TRY_CAST(isAdult AS BOOLEAN) AS is_adult,\n",
    "        TRY_CAST(startYear AS INTEGER) AS start_year,\n",
    "        TRY_CAST(endYear AS INTEGER) AS end_year,\n",
    "        TRY_CAST(runtimeMinutes AS INTEGER) AS runtime_minutes,\n",
    "        string_split(genres, ',') AS genres\n",
    "    FROM read_csv('{os.path.join('data','title.basics.tsv')}', \n",
    "        delim='\\t', \n",
    "        header=True, \n",
    "        nullstr='\\\\N')\n",
    "    \"\"\")\n",
    "    \n",
    "    # Title Crew\n",
    "    conn.execute(f\"\"\"\n",
    "    CREATE OR REPLACE TABLE title_crew AS\n",
    "    SELECT \n",
    "        tconst,\n",
    "        string_split(directors, ',') AS directors,\n",
    "        string_split(writers, ',') AS writers\n",
    "    FROM read_csv('{os.path.join('data','title.crew.tsv')}', \n",
    "        delim='\\t', \n",
    "        header=True, \n",
    "        nullstr='\\\\N')\n",
    "    \"\"\")\n",
    "    \n",
    "    # Title Episode\n",
    "    conn.execute(f\"\"\"\n",
    "    CREATE OR REPLACE TABLE title_episode AS\n",
    "    SELECT \n",
    "        tconst,\n",
    "        parentTconst AS parent_tconst,\n",
    "        TRY_CAST(seasonNumber AS INTEGER) AS season_number,\n",
    "        TRY_CAST(episodeNumber AS INTEGER) AS episode_number\n",
    "    FROM read_csv('{os.path.join('data','title.episode.tsv')}', \n",
    "        delim='\\t', \n",
    "        header=True, \n",
    "        nullstr='\\\\N')\n",
    "    \"\"\")\n",
    "    \n",
    "    # Title Principals\n",
    "    conn.execute(f\"\"\"\n",
    "    CREATE OR REPLACE TABLE title_principals AS\n",
    "    SELECT \n",
    "        tconst,\n",
    "        ordering::INTEGER,\n",
    "        nconst,\n",
    "        category,\n",
    "        job,\n",
    "        characters\n",
    "    FROM read_csv('{os.path.join('data','title.principals.tsv')}', \n",
    "        delim='\\t', \n",
    "        header=True, \n",
    "        nullstr='\\\\N')\n",
    "    \"\"\")\n",
    "    \n",
    "    # Title Ratings\n",
    "    conn.execute(f\"\"\"\n",
    "    CREATE OR REPLACE TABLE title_ratings AS\n",
    "    SELECT \n",
    "        tconst,\n",
    "        averageRating::FLOAT AS average_rating,\n",
    "        numVotes::INTEGER AS num_votes\n",
    "    FROM read_csv('{os.path.join('data','title.ratings.tsv')}', \n",
    "        delim='\\t', \n",
    "        header=True, \n",
    "        nullstr='\\\\N')\n",
    "    \"\"\")\n",
    "    \n",
    "    # Name Basics\n",
    "    conn.execute(f\"\"\"\n",
    "    CREATE OR REPLACE TABLE name_basics AS\n",
    "    SELECT \n",
    "        nconst,\n",
    "        primaryName AS primary_name,\n",
    "        TRY_CAST(birthYear AS INTEGER) AS birth_year,\n",
    "        TRY_CAST(deathYear AS INTEGER) AS death_year,\n",
    "        string_split(primaryProfession, ',') AS primary_profession,\n",
    "        string_split(knownForTitles, ',') AS known_for_titles\n",
    "    FROM read_csv('{os.path.join('data','name.basics.tsv')}', \n",
    "        delim='\\t', \n",
    "        header=True, \n",
    "        nullstr='\\\\N')\n",
    "    \"\"\")\n",
    "\n",
    "    print(\"All IMDb tables created successfully!\")\n",
    "\n",
    "# Execute table creation\n",
    "create_imdb_tables()"
   ]
  },
  {
   "cell_type": "markdown",
   "metadata": {},
   "source": [
    "Create optimized Parquet versions."
   ]
  },
  {
   "cell_type": "code",
   "execution_count": 4,
   "metadata": {},
   "outputs": [
    {
     "data": {
      "application/vnd.jupyter.widget-view+json": {
       "model_id": "5b3e581fa51440ffb5b358262d1d652e",
       "version_major": 2,
       "version_minor": 0
      },
      "text/plain": [
       "FloatProgress(value=0.0, layout=Layout(width='auto'), style=ProgressStyle(bar_color='black'))"
      ]
     },
     "metadata": {},
     "output_type": "display_data"
    },
    {
     "data": {
      "text/plain": [
       "<duckdb.duckdb.DuckDBPyConnection at 0x27e99542930>"
      ]
     },
     "execution_count": 4,
     "metadata": {},
     "output_type": "execute_result"
    }
   ],
   "source": [
    "conn.execute(\"\"\"\n",
    "    EXPORT DATABASE 'parquet' (\n",
    "        FORMAT PARQUET,\n",
    "        COMPRESSION ZSTD\n",
    "    )\n",
    "\"\"\")"
   ]
  },
  {
   "cell_type": "markdown",
   "metadata": {},
   "source": [
    "Now we have created 7 tables:\n",
    "1. title_akas\n",
    "2. title_basics\n",
    "3. title_crew\n",
    "4. title_episode\n",
    "5. title_principals\n",
    "6. title_ratings\n",
    "7. name_basics\n",
    "\n",
    "Key Features:\n",
    "\n",
    "- Uses DuckDB's native CSV reader with proper delimiters and null handling\n",
    "\n",
    "- Converts comma-separated strings to DuckDB LIST types\n",
    "\n",
    "- Handles type casting with TRY_CAST for safety\n",
    "\n",
    "- Creates persistent DuckDB database file\n",
    "\n",
    "- Optional Parquet export for faster queries\n",
    "\n",
    "Usage:"
   ]
  },
  {
   "cell_type": "code",
   "execution_count": 6,
   "metadata": {},
   "outputs": [
    {
     "data": {
      "text/html": [
       "<div>\n",
       "<style scoped>\n",
       "    .dataframe tbody tr th:only-of-type {\n",
       "        vertical-align: middle;\n",
       "    }\n",
       "\n",
       "    .dataframe tbody tr th {\n",
       "        vertical-align: top;\n",
       "    }\n",
       "\n",
       "    .dataframe thead th {\n",
       "        text-align: right;\n",
       "    }\n",
       "</style>\n",
       "<table border=\"1\" class=\"dataframe\">\n",
       "  <thead>\n",
       "    <tr style=\"text-align: right;\">\n",
       "      <th></th>\n",
       "      <th>tconst</th>\n",
       "      <th>title_type</th>\n",
       "      <th>primary_title</th>\n",
       "      <th>original_title</th>\n",
       "      <th>is_adult</th>\n",
       "      <th>start_year</th>\n",
       "      <th>end_year</th>\n",
       "      <th>runtime_minutes</th>\n",
       "      <th>genres</th>\n",
       "      <th>tconst_1</th>\n",
       "      <th>average_rating</th>\n",
       "      <th>num_votes</th>\n",
       "    </tr>\n",
       "  </thead>\n",
       "  <tbody>\n",
       "    <tr>\n",
       "      <th>0</th>\n",
       "      <td>tt34695998</td>\n",
       "      <td>movie</td>\n",
       "      <td>Nenapugala Maathu Madhura</td>\n",
       "      <td>Nenapugala Maathu Madhura</td>\n",
       "      <td>False</td>\n",
       "      <td>2025</td>\n",
       "      <td>&lt;NA&gt;</td>\n",
       "      <td>&lt;NA&gt;</td>\n",
       "      <td>&lt;NA&gt;</td>\n",
       "      <td>tt34695998</td>\n",
       "      <td>10.0</td>\n",
       "      <td>208</td>\n",
       "    </tr>\n",
       "    <tr>\n",
       "      <th>1</th>\n",
       "      <td>tt33839333</td>\n",
       "      <td>movie</td>\n",
       "      <td>The Cry of O Neill</td>\n",
       "      <td>The Cry of O Neill</td>\n",
       "      <td>False</td>\n",
       "      <td>2024</td>\n",
       "      <td>&lt;NA&gt;</td>\n",
       "      <td>7</td>\n",
       "      <td>&lt;NA&gt;</td>\n",
       "      <td>tt33839333</td>\n",
       "      <td>10.0</td>\n",
       "      <td>12</td>\n",
       "    </tr>\n",
       "    <tr>\n",
       "      <th>2</th>\n",
       "      <td>tt19497458</td>\n",
       "      <td>movie</td>\n",
       "      <td>America Gone Viral</td>\n",
       "      <td>America Gone Viral</td>\n",
       "      <td>False</td>\n",
       "      <td>2022</td>\n",
       "      <td>&lt;NA&gt;</td>\n",
       "      <td>84</td>\n",
       "      <td>[Drama]</td>\n",
       "      <td>tt19497458</td>\n",
       "      <td>10.0</td>\n",
       "      <td>9</td>\n",
       "    </tr>\n",
       "    <tr>\n",
       "      <th>3</th>\n",
       "      <td>tt17717882</td>\n",
       "      <td>movie</td>\n",
       "      <td>Annie Johnson's Brothers</td>\n",
       "      <td>Annie Johnson's Brothers</td>\n",
       "      <td>False</td>\n",
       "      <td>2021</td>\n",
       "      <td>&lt;NA&gt;</td>\n",
       "      <td>120</td>\n",
       "      <td>[Drama]</td>\n",
       "      <td>tt17717882</td>\n",
       "      <td>10.0</td>\n",
       "      <td>11</td>\n",
       "    </tr>\n",
       "    <tr>\n",
       "      <th>4</th>\n",
       "      <td>tt14546442</td>\n",
       "      <td>movie</td>\n",
       "      <td>Pandemania</td>\n",
       "      <td>Pandemania</td>\n",
       "      <td>False</td>\n",
       "      <td>2021</td>\n",
       "      <td>&lt;NA&gt;</td>\n",
       "      <td>63</td>\n",
       "      <td>[Documentary]</td>\n",
       "      <td>tt14546442</td>\n",
       "      <td>10.0</td>\n",
       "      <td>8</td>\n",
       "    </tr>\n",
       "    <tr>\n",
       "      <th>5</th>\n",
       "      <td>tt34754032</td>\n",
       "      <td>movie</td>\n",
       "      <td>El Vocho del Averno</td>\n",
       "      <td>El Vocho del Averno</td>\n",
       "      <td>False</td>\n",
       "      <td>2025</td>\n",
       "      <td>&lt;NA&gt;</td>\n",
       "      <td>&lt;NA&gt;</td>\n",
       "      <td>[Comedy, Horror]</td>\n",
       "      <td>tt34754032</td>\n",
       "      <td>10.0</td>\n",
       "      <td>14</td>\n",
       "    </tr>\n",
       "    <tr>\n",
       "      <th>6</th>\n",
       "      <td>tt20770330</td>\n",
       "      <td>movie</td>\n",
       "      <td>The Roping Fools</td>\n",
       "      <td>The Roping Fools</td>\n",
       "      <td>False</td>\n",
       "      <td>2025</td>\n",
       "      <td>&lt;NA&gt;</td>\n",
       "      <td>&lt;NA&gt;</td>\n",
       "      <td>[Documentary]</td>\n",
       "      <td>tt20770330</td>\n",
       "      <td>10.0</td>\n",
       "      <td>11</td>\n",
       "    </tr>\n",
       "    <tr>\n",
       "      <th>7</th>\n",
       "      <td>tt35665272</td>\n",
       "      <td>movie</td>\n",
       "      <td>Cuando lo peor haya pasado</td>\n",
       "      <td>Cuando lo peor haya pasado</td>\n",
       "      <td>False</td>\n",
       "      <td>2023</td>\n",
       "      <td>&lt;NA&gt;</td>\n",
       "      <td>&lt;NA&gt;</td>\n",
       "      <td>[Drama]</td>\n",
       "      <td>tt35665272</td>\n",
       "      <td>10.0</td>\n",
       "      <td>6</td>\n",
       "    </tr>\n",
       "    <tr>\n",
       "      <th>8</th>\n",
       "      <td>tt29259789</td>\n",
       "      <td>movie</td>\n",
       "      <td>Sisters &amp; The Shrink 4</td>\n",
       "      <td>Sisters &amp; The Shrink 4</td>\n",
       "      <td>False</td>\n",
       "      <td>2023</td>\n",
       "      <td>&lt;NA&gt;</td>\n",
       "      <td>&lt;NA&gt;</td>\n",
       "      <td>[Drama]</td>\n",
       "      <td>tt29259789</td>\n",
       "      <td>10.0</td>\n",
       "      <td>11</td>\n",
       "    </tr>\n",
       "    <tr>\n",
       "      <th>9</th>\n",
       "      <td>tt28420272</td>\n",
       "      <td>movie</td>\n",
       "      <td>Hora Uncle</td>\n",
       "      <td>Hora Uncle</td>\n",
       "      <td>False</td>\n",
       "      <td>2024</td>\n",
       "      <td>&lt;NA&gt;</td>\n",
       "      <td>&lt;NA&gt;</td>\n",
       "      <td>[Drama]</td>\n",
       "      <td>tt28420272</td>\n",
       "      <td>10.0</td>\n",
       "      <td>17</td>\n",
       "    </tr>\n",
       "  </tbody>\n",
       "</table>\n",
       "</div>"
      ],
      "text/plain": [
       "       tconst title_type               primary_title  \\\n",
       "0  tt34695998      movie   Nenapugala Maathu Madhura   \n",
       "1  tt33839333      movie          The Cry of O Neill   \n",
       "2  tt19497458      movie          America Gone Viral   \n",
       "3  tt17717882      movie    Annie Johnson's Brothers   \n",
       "4  tt14546442      movie                  Pandemania   \n",
       "5  tt34754032      movie         El Vocho del Averno   \n",
       "6  tt20770330      movie            The Roping Fools   \n",
       "7  tt35665272      movie  Cuando lo peor haya pasado   \n",
       "8  tt29259789      movie      Sisters & The Shrink 4   \n",
       "9  tt28420272      movie                  Hora Uncle   \n",
       "\n",
       "               original_title  is_adult  start_year  end_year  \\\n",
       "0   Nenapugala Maathu Madhura     False        2025      <NA>   \n",
       "1          The Cry of O Neill     False        2024      <NA>   \n",
       "2          America Gone Viral     False        2022      <NA>   \n",
       "3    Annie Johnson's Brothers     False        2021      <NA>   \n",
       "4                  Pandemania     False        2021      <NA>   \n",
       "5         El Vocho del Averno     False        2025      <NA>   \n",
       "6            The Roping Fools     False        2025      <NA>   \n",
       "7  Cuando lo peor haya pasado     False        2023      <NA>   \n",
       "8      Sisters & The Shrink 4     False        2023      <NA>   \n",
       "9                  Hora Uncle     False        2024      <NA>   \n",
       "\n",
       "   runtime_minutes            genres    tconst_1  average_rating  num_votes  \n",
       "0             <NA>              <NA>  tt34695998            10.0        208  \n",
       "1                7              <NA>  tt33839333            10.0         12  \n",
       "2               84           [Drama]  tt19497458            10.0          9  \n",
       "3              120           [Drama]  tt17717882            10.0         11  \n",
       "4               63     [Documentary]  tt14546442            10.0          8  \n",
       "5             <NA>  [Comedy, Horror]  tt34754032            10.0         14  \n",
       "6             <NA>     [Documentary]  tt20770330            10.0         11  \n",
       "7             <NA>           [Drama]  tt35665272            10.0          6  \n",
       "8             <NA>           [Drama]  tt29259789            10.0         11  \n",
       "9             <NA>           [Drama]  tt28420272            10.0         17  "
      ]
     },
     "metadata": {},
     "output_type": "display_data"
    }
   ],
   "source": [
    "df = conn.execute(\"\"\"\n",
    "    SELECT \n",
    "        *\n",
    "    FROM title_basics tb\n",
    "    JOIN title_ratings tr \n",
    "        ON tb.tconst = tr.tconst\n",
    "    WHERE tb.title_type = 'movie'\n",
    "        AND tb.start_year >= 2020\n",
    "    ORDER BY tr.average_rating DESC\n",
    "    LIMIT 10\n",
    "\"\"\").df()\n",
    "\n",
    "display(df)"
   ]
  },
  {
   "cell_type": "markdown",
   "metadata": {},
   "source": [
    "A few tips to improve performance:\n",
    "1. Use `WHERE` clause to filter early.\n",
    "2. Create indexes on frequently used columns\n",
    "```conn.execute(\"CREATE INDEX idx_tconst ON title_basics(tconst)\")```\n",
    "3. Use DuckDB's parallel processing:\n",
    "```conn.execute(\"SET threads TO 8\")```\n",
    "\n",
    "Once you have finished, please close the connection. Otherwise you cannot use the database in other notebooks."
   ]
  },
  {
   "cell_type": "code",
   "execution_count": 7,
   "metadata": {},
   "outputs": [],
   "source": [
    "conn.close()"
   ]
  }
 ],
 "metadata": {
  "kernelspec": {
   "display_name": ".venv",
   "language": "python",
   "name": "python3"
  },
  "language_info": {
   "codemirror_mode": {
    "name": "ipython",
    "version": 3
   },
   "file_extension": ".py",
   "mimetype": "text/x-python",
   "name": "python",
   "nbconvert_exporter": "python",
   "pygments_lexer": "ipython3",
   "version": "3.13.1"
  }
 },
 "nbformat": 4,
 "nbformat_minor": 2
}
